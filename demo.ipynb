{
 "cells": [
  {
   "cell_type": "markdown",
   "metadata": {},
   "source": [
    "Demo JNotebook for git"
   ]
  },
  {
   "cell_type": "code",
   "execution_count": 4,
   "metadata": {},
   "outputs": [],
   "source": [
    "from data_view import *\n",
    "from sklearn import datasets "
   ]
  },
  {
   "cell_type": "code",
   "execution_count": 3,
   "metadata": {},
   "outputs": [
    {
     "name": "stdout",
     "output_type": "stream",
     "text": [
      "mkdir: data: File exists\n"
     ]
    }
   ],
   "source": [
    "# create directory for data\n",
    "!mkdir data"
   ]
  },
  {
   "cell_type": "code",
   "execution_count": 20,
   "metadata": {},
   "outputs": [],
   "source": [
    "iris = datasets.load_iris()"
   ]
  },
  {
   "cell_type": "code",
   "execution_count": 21,
   "metadata": {},
   "outputs": [],
   "source": [
    "X = iris.data  # we only take the first two features.\n",
    "y = pd.Series(iris.target).map(lambda x: iris.target_names[int(x)])"
   ]
  },
  {
   "cell_type": "code",
   "execution_count": 22,
   "metadata": {},
   "outputs": [],
   "source": [
    "iris = pd.DataFrame(X, columns=iris.feature_names)\n",
    "iris['group'] = y"
   ]
  },
  {
   "cell_type": "code",
   "execution_count": 23,
   "metadata": {},
   "outputs": [
    {
     "name": "stdout",
     "output_type": "stream",
     "text": [
      "\u001b[1mРазмер данных:\u001b[0m (150, 5)\n",
      "\n",
      "\u001b[1mОбзор первых/последних строк данных\u001b[0m\n",
      "----------------------------------------------------------------------------------------------------\n"
     ]
    },
    {
     "data": {
      "text/html": [
       "<table border=\"1\" class=\"dataframe\">\n",
       "  <thead>\n",
       "    <tr style=\"text-align: right;\">\n",
       "      <th></th>\n",
       "      <th>sepal length (cm)</th>\n",
       "      <th>sepal width (cm)</th>\n",
       "      <th>petal length (cm)</th>\n",
       "      <th>petal width (cm)</th>\n",
       "      <th>group</th>\n",
       "    </tr>\n",
       "  </thead>\n",
       "  <tbody>\n",
       "    <tr>\n",
       "      <th>0</th>\n",
       "      <td>5.1</td>\n",
       "      <td>3.5</td>\n",
       "      <td>1.4</td>\n",
       "      <td>0.2</td>\n",
       "      <td>setosa</td>\n",
       "    </tr>\n",
       "    <tr>\n",
       "      <th>1</th>\n",
       "      <td>4.9</td>\n",
       "      <td>3.0</td>\n",
       "      <td>1.4</td>\n",
       "      <td>0.2</td>\n",
       "      <td>setosa</td>\n",
       "    </tr>\n",
       "    <tr>\n",
       "      <th>2</th>\n",
       "      <td>4.7</td>\n",
       "      <td>3.2</td>\n",
       "      <td>1.3</td>\n",
       "      <td>0.2</td>\n",
       "      <td>setosa</td>\n",
       "    </tr>\n",
       "    <tr>\n",
       "      <th>3</th>\n",
       "      <td>4.6</td>\n",
       "      <td>3.1</td>\n",
       "      <td>1.5</td>\n",
       "      <td>0.2</td>\n",
       "      <td>setosa</td>\n",
       "    </tr>\n",
       "    <tr>\n",
       "      <th>4</th>\n",
       "      <td>5.0</td>\n",
       "      <td>3.6</td>\n",
       "      <td>1.4</td>\n",
       "      <td>0.2</td>\n",
       "      <td>setosa</td>\n",
       "    </tr>\n",
       "    <tr>\n",
       "      <th>145</th>\n",
       "      <td>6.7</td>\n",
       "      <td>3.0</td>\n",
       "      <td>5.2</td>\n",
       "      <td>2.3</td>\n",
       "      <td>virginica</td>\n",
       "    </tr>\n",
       "    <tr>\n",
       "      <th>146</th>\n",
       "      <td>6.3</td>\n",
       "      <td>2.5</td>\n",
       "      <td>5.0</td>\n",
       "      <td>1.9</td>\n",
       "      <td>virginica</td>\n",
       "    </tr>\n",
       "    <tr>\n",
       "      <th>147</th>\n",
       "      <td>6.5</td>\n",
       "      <td>3.0</td>\n",
       "      <td>5.2</td>\n",
       "      <td>2.0</td>\n",
       "      <td>virginica</td>\n",
       "    </tr>\n",
       "    <tr>\n",
       "      <th>148</th>\n",
       "      <td>6.2</td>\n",
       "      <td>3.4</td>\n",
       "      <td>5.4</td>\n",
       "      <td>2.3</td>\n",
       "      <td>virginica</td>\n",
       "    </tr>\n",
       "    <tr>\n",
       "      <th>149</th>\n",
       "      <td>5.9</td>\n",
       "      <td>3.0</td>\n",
       "      <td>5.1</td>\n",
       "      <td>1.8</td>\n",
       "      <td>virginica</td>\n",
       "    </tr>\n",
       "  </tbody>\n",
       "</table>"
      ],
      "text/plain": [
       "<IPython.core.display.HTML object>"
      ]
     },
     "metadata": {},
     "output_type": "display_data"
    },
    {
     "name": "stdout",
     "output_type": "stream",
     "text": [
      "\n",
      "\u001b[1mТипы данных и кол-во непустых строк\u001b[0m\n",
      "----------------------------------------------------------------------------------------------------\n",
      "<class 'pandas.core.frame.DataFrame'>\n",
      "RangeIndex: 150 entries, 0 to 149\n",
      "Data columns (total 5 columns):\n",
      "sepal length (cm)    150 non-null float64\n",
      "sepal width (cm)     150 non-null float64\n",
      "petal length (cm)    150 non-null float64\n",
      "petal width (cm)     150 non-null float64\n",
      "group                150 non-null object\n",
      "dtypes: float64(4), object(1)\n",
      "memory usage: 6.0+ KB\n"
     ]
    },
    {
     "data": {
      "text/html": [
       "<table border=\"1\" class=\"dataframe\">\n",
       "  <thead>\n",
       "    <tr style=\"text-align: right;\">\n",
       "      <th></th>\n",
       "    </tr>\n",
       "  </thead>\n",
       "  <tbody>\n",
       "  </tbody>\n",
       "</table>"
      ],
      "text/plain": [
       "<IPython.core.display.HTML object>"
      ]
     },
     "metadata": {},
     "output_type": "display_data"
    },
    {
     "name": "stdout",
     "output_type": "stream",
     "text": [
      "\n",
      "\u001b[1mНаличие дат (месяц, год, день) или id в названиях столбцов\u001b[0m\n",
      "----------------------------------------------------------------------------------------------------\n"
     ]
    },
    {
     "data": {
      "text/html": [
       "<table border=\"1\" class=\"dataframe\">\n",
       "  <thead>\n",
       "    <tr style=\"text-align: right;\">\n",
       "      <th></th>\n",
       "      <th>Текущий тип</th>\n",
       "      <th>Рекомендуемый тип</th>\n",
       "    </tr>\n",
       "    <tr>\n",
       "      <th>Имя</th>\n",
       "      <th></th>\n",
       "      <th></th>\n",
       "    </tr>\n",
       "  </thead>\n",
       "  <tbody>\n",
       "    <tr>\n",
       "      <th>sepal width (cm)</th>\n",
       "      <td>float64</td>\n",
       "      <td>int</td>\n",
       "    </tr>\n",
       "    <tr>\n",
       "      <th>petal width (cm)</th>\n",
       "      <td>float64</td>\n",
       "      <td>int</td>\n",
       "    </tr>\n",
       "  </tbody>\n",
       "</table>"
      ],
      "text/plain": [
       "<IPython.core.display.HTML object>"
      ]
     },
     "metadata": {},
     "output_type": "display_data"
    },
    {
     "name": "stdout",
     "output_type": "stream",
     "text": [
      "\n",
      "\u001b[1mКол-во пропусков в данных\u001b[0m\n",
      "----------------------------------------------------------------------------------------------------\n"
     ]
    },
    {
     "data": {
      "text/html": [
       "<style  type=\"text/css\" >\n",
       "    #T_f6fc3ca0_9062_11ea_a346_c8bcc8a29c8frow0_col0 {\n",
       "            background-color:  #e5ffe5;\n",
       "            color:  #000000;\n",
       "        }    #T_f6fc3ca0_9062_11ea_a346_c8bcc8a29c8frow0_col1 {\n",
       "            background-color:  #e5ffe5;\n",
       "            color:  #000000;\n",
       "        }    #T_f6fc3ca0_9062_11ea_a346_c8bcc8a29c8frow1_col0 {\n",
       "            background-color:  #e5ffe5;\n",
       "            color:  #000000;\n",
       "        }    #T_f6fc3ca0_9062_11ea_a346_c8bcc8a29c8frow1_col1 {\n",
       "            background-color:  #e5ffe5;\n",
       "            color:  #000000;\n",
       "        }    #T_f6fc3ca0_9062_11ea_a346_c8bcc8a29c8frow2_col0 {\n",
       "            background-color:  #e5ffe5;\n",
       "            color:  #000000;\n",
       "        }    #T_f6fc3ca0_9062_11ea_a346_c8bcc8a29c8frow2_col1 {\n",
       "            background-color:  #e5ffe5;\n",
       "            color:  #000000;\n",
       "        }    #T_f6fc3ca0_9062_11ea_a346_c8bcc8a29c8frow3_col0 {\n",
       "            background-color:  #e5ffe5;\n",
       "            color:  #000000;\n",
       "        }    #T_f6fc3ca0_9062_11ea_a346_c8bcc8a29c8frow3_col1 {\n",
       "            background-color:  #e5ffe5;\n",
       "            color:  #000000;\n",
       "        }    #T_f6fc3ca0_9062_11ea_a346_c8bcc8a29c8frow4_col0 {\n",
       "            background-color:  #e5ffe5;\n",
       "            color:  #000000;\n",
       "        }    #T_f6fc3ca0_9062_11ea_a346_c8bcc8a29c8frow4_col1 {\n",
       "            background-color:  #e5ffe5;\n",
       "            color:  #000000;\n",
       "        }</style><table id=\"T_f6fc3ca0_9062_11ea_a346_c8bcc8a29c8f\" ><thead>    <tr>        <th class=\"blank level0\" ></th>        <th class=\"col_heading level0 col0\" >Пропуски</th>        <th class=\"col_heading level0 col1\" >Пропуски, %</th>    </tr>    <tr>        <th class=\"index_name level0\" >Имя</th>        <th class=\"blank\" ></th>        <th class=\"blank\" ></th>    </tr></thead><tbody>\n",
       "                <tr>\n",
       "                        <th id=\"T_f6fc3ca0_9062_11ea_a346_c8bcc8a29c8flevel0_row0\" class=\"row_heading level0 row0\" >sepal length (cm)</th>\n",
       "                        <td id=\"T_f6fc3ca0_9062_11ea_a346_c8bcc8a29c8frow0_col0\" class=\"data row0 col0\" >0</td>\n",
       "                        <td id=\"T_f6fc3ca0_9062_11ea_a346_c8bcc8a29c8frow0_col1\" class=\"data row0 col1\" >0</td>\n",
       "            </tr>\n",
       "            <tr>\n",
       "                        <th id=\"T_f6fc3ca0_9062_11ea_a346_c8bcc8a29c8flevel0_row1\" class=\"row_heading level0 row1\" >sepal width (cm)</th>\n",
       "                        <td id=\"T_f6fc3ca0_9062_11ea_a346_c8bcc8a29c8frow1_col0\" class=\"data row1 col0\" >0</td>\n",
       "                        <td id=\"T_f6fc3ca0_9062_11ea_a346_c8bcc8a29c8frow1_col1\" class=\"data row1 col1\" >0</td>\n",
       "            </tr>\n",
       "            <tr>\n",
       "                        <th id=\"T_f6fc3ca0_9062_11ea_a346_c8bcc8a29c8flevel0_row2\" class=\"row_heading level0 row2\" >petal length (cm)</th>\n",
       "                        <td id=\"T_f6fc3ca0_9062_11ea_a346_c8bcc8a29c8frow2_col0\" class=\"data row2 col0\" >0</td>\n",
       "                        <td id=\"T_f6fc3ca0_9062_11ea_a346_c8bcc8a29c8frow2_col1\" class=\"data row2 col1\" >0</td>\n",
       "            </tr>\n",
       "            <tr>\n",
       "                        <th id=\"T_f6fc3ca0_9062_11ea_a346_c8bcc8a29c8flevel0_row3\" class=\"row_heading level0 row3\" >petal width (cm)</th>\n",
       "                        <td id=\"T_f6fc3ca0_9062_11ea_a346_c8bcc8a29c8frow3_col0\" class=\"data row3 col0\" >0</td>\n",
       "                        <td id=\"T_f6fc3ca0_9062_11ea_a346_c8bcc8a29c8frow3_col1\" class=\"data row3 col1\" >0</td>\n",
       "            </tr>\n",
       "            <tr>\n",
       "                        <th id=\"T_f6fc3ca0_9062_11ea_a346_c8bcc8a29c8flevel0_row4\" class=\"row_heading level0 row4\" >group</th>\n",
       "                        <td id=\"T_f6fc3ca0_9062_11ea_a346_c8bcc8a29c8frow4_col0\" class=\"data row4 col0\" >0</td>\n",
       "                        <td id=\"T_f6fc3ca0_9062_11ea_a346_c8bcc8a29c8frow4_col1\" class=\"data row4 col1\" >0</td>\n",
       "            </tr>\n",
       "    </tbody></table>"
      ],
      "text/plain": [
       "<IPython.core.display.HTML object>"
      ]
     },
     "metadata": {},
     "output_type": "display_data"
    },
    {
     "name": "stdout",
     "output_type": "stream",
     "text": [
      "\n",
      "\u001b[1mКол-во дубликатов в данных\u001b[0m\n",
      "----------------------------------------------------------------------------------------------------\n",
      "1\n",
      "\n",
      "\u001b[1mОписательные статистики числовых признаков\u001b[0m\n",
      "----------------------------------------------------------------------------------------------------\n"
     ]
    },
    {
     "data": {
      "text/html": [
       "<table border=\"1\" class=\"dataframe\">\n",
       "  <thead>\n",
       "    <tr style=\"text-align: right;\">\n",
       "      <th></th>\n",
       "      <th>count</th>\n",
       "      <th>mean</th>\n",
       "      <th>std</th>\n",
       "      <th>min</th>\n",
       "      <th>25%</th>\n",
       "      <th>50%</th>\n",
       "      <th>75%</th>\n",
       "      <th>max</th>\n",
       "      <th>number_of_outliers</th>\n",
       "    </tr>\n",
       "  </thead>\n",
       "  <tbody>\n",
       "    <tr>\n",
       "      <th>sepal length (cm)</th>\n",
       "      <td>150</td>\n",
       "      <td>5.843333</td>\n",
       "      <td>0.828066</td>\n",
       "      <td>4.3</td>\n",
       "      <td>5.1</td>\n",
       "      <td>5.80</td>\n",
       "      <td>6.4</td>\n",
       "      <td>7.9</td>\n",
       "      <td>0</td>\n",
       "    </tr>\n",
       "    <tr>\n",
       "      <th>sepal width (cm)</th>\n",
       "      <td>150</td>\n",
       "      <td>3.057333</td>\n",
       "      <td>0.435866</td>\n",
       "      <td>2.0</td>\n",
       "      <td>2.8</td>\n",
       "      <td>3.00</td>\n",
       "      <td>3.3</td>\n",
       "      <td>4.4</td>\n",
       "      <td>4</td>\n",
       "    </tr>\n",
       "    <tr>\n",
       "      <th>petal length (cm)</th>\n",
       "      <td>150</td>\n",
       "      <td>3.758000</td>\n",
       "      <td>1.765298</td>\n",
       "      <td>1.0</td>\n",
       "      <td>1.6</td>\n",
       "      <td>4.35</td>\n",
       "      <td>5.1</td>\n",
       "      <td>6.9</td>\n",
       "      <td>0</td>\n",
       "    </tr>\n",
       "    <tr>\n",
       "      <th>petal width (cm)</th>\n",
       "      <td>150</td>\n",
       "      <td>1.199333</td>\n",
       "      <td>0.762238</td>\n",
       "      <td>0.1</td>\n",
       "      <td>0.3</td>\n",
       "      <td>1.30</td>\n",
       "      <td>1.8</td>\n",
       "      <td>2.5</td>\n",
       "      <td>0</td>\n",
       "    </tr>\n",
       "  </tbody>\n",
       "</table>"
      ],
      "text/plain": [
       "<IPython.core.display.HTML object>"
      ]
     },
     "metadata": {},
     "output_type": "display_data"
    },
    {
     "name": "stdout",
     "output_type": "stream",
     "text": [
      "\n",
      "\u001b[1mГистограммы числовых показателей\u001b[0m\n",
      "----------------------------------------------------------------------------------------------------\n"
     ]
    },
    {
     "data": {
      "image/png": "[encoded data removed]",
      "text/plain": [
       "<Figure size 864x864 with 4 Axes>"
      ]
     },
     "metadata": {
      "needs_background": "light"
     },
     "output_type": "display_data"
    },
    {
     "name": "stdout",
     "output_type": "stream",
     "text": [
      "\n",
      "\u001b[1mОписательные статистики категориальных признаков\u001b[0m\n",
      "----------------------------------------------------------------------------------------------------\n"
     ]
    },
    {
     "data": {
      "text/html": [
       "<table border=\"1\" class=\"dataframe\">\n",
       "  <thead>\n",
       "    <tr style=\"text-align: right;\">\n",
       "      <th></th>\n",
       "      <th>count</th>\n",
       "      <th>unique</th>\n",
       "      <th>top</th>\n",
       "      <th>freq</th>\n",
       "    </tr>\n",
       "  </thead>\n",
       "  <tbody>\n",
       "    <tr>\n",
       "      <th>group</th>\n",
       "      <td>150</td>\n",
       "      <td>3</td>\n",
       "      <td>versicolor</td>\n",
       "      <td>50</td>\n",
       "    </tr>\n",
       "  </tbody>\n",
       "</table>"
      ],
      "text/plain": [
       "<IPython.core.display.HTML object>"
      ]
     },
     "metadata": {},
     "output_type": "display_data"
    },
    {
     "name": "stdout",
     "output_type": "stream",
     "text": [
      "\n",
      "\n",
      "\u001b[1mТоп-5 уникального категориального признака\u001b[0m\n",
      "----------------------------------------------------------------------------------------------------\n"
     ]
    },
    {
     "data": {
      "text/html": [
       "<table border=\"1\" class=\"dataframe\">\n",
       "  <thead>\n",
       "    <tr style=\"text-align: right;\">\n",
       "      <th></th>\n",
       "      <th>group_name</th>\n",
       "      <th>group_count</th>\n",
       "    </tr>\n",
       "  </thead>\n",
       "  <tbody>\n",
       "    <tr>\n",
       "      <th>0</th>\n",
       "      <td>versicolor</td>\n",
       "      <td>50</td>\n",
       "    </tr>\n",
       "    <tr>\n",
       "      <th>1</th>\n",
       "      <td>virginica</td>\n",
       "      <td>50</td>\n",
       "    </tr>\n",
       "    <tr>\n",
       "      <th>2</th>\n",
       "      <td>setosa</td>\n",
       "      <td>50</td>\n",
       "    </tr>\n",
       "    <tr>\n",
       "      <th>3</th>\n",
       "      <td>0</td>\n",
       "      <td>-1</td>\n",
       "    </tr>\n",
       "    <tr>\n",
       "      <th>4</th>\n",
       "      <td>0</td>\n",
       "      <td>-1</td>\n",
       "    </tr>\n",
       "  </tbody>\n",
       "</table>"
      ],
      "text/plain": [
       "<IPython.core.display.HTML object>"
      ]
     },
     "metadata": {},
     "output_type": "display_data"
    },
    {
     "name": "stdout",
     "output_type": "stream",
     "text": [
      "\n",
      "\n",
      "\u001b[1mСтатистики при группировке по некоторым категориям\u001b[0m\n",
      "----------------------------------------------------------------------------------------------------\n",
      "Группировка по: group\n"
     ]
    },
    {
     "data": {
      "text/html": [
       "<div>\n",
       "<style scoped>\n",
       "    .dataframe tbody tr th:only-of-type {\n",
       "        vertical-align: middle;\n",
       "    }\n",
       "\n",
       "    .dataframe tbody tr th {\n",
       "        vertical-align: top;\n",
       "    }\n",
       "\n",
       "    .dataframe thead th {\n",
       "        text-align: right;\n",
       "    }\n",
       "</style>\n",
       "<table border=\"1\" class=\"dataframe\">\n",
       "  <thead>\n",
       "    <tr style=\"text-align: right;\">\n",
       "      <th></th>\n",
       "      <th>petal length (cm)</th>\n",
       "      <th>petal width (cm)</th>\n",
       "      <th>sepal length (cm)</th>\n",
       "      <th>sepal width (cm)</th>\n",
       "    </tr>\n",
       "    <tr>\n",
       "      <th>group</th>\n",
       "      <th></th>\n",
       "      <th></th>\n",
       "      <th></th>\n",
       "      <th></th>\n",
       "    </tr>\n",
       "  </thead>\n",
       "  <tbody>\n",
       "    <tr>\n",
       "      <td>setosa</td>\n",
       "      <td>50</td>\n",
       "      <td>50</td>\n",
       "      <td>50</td>\n",
       "      <td>50</td>\n",
       "    </tr>\n",
       "    <tr>\n",
       "      <td>versicolor</td>\n",
       "      <td>50</td>\n",
       "      <td>50</td>\n",
       "      <td>50</td>\n",
       "      <td>50</td>\n",
       "    </tr>\n",
       "    <tr>\n",
       "      <td>virginica</td>\n",
       "      <td>50</td>\n",
       "      <td>50</td>\n",
       "      <td>50</td>\n",
       "      <td>50</td>\n",
       "    </tr>\n",
       "  </tbody>\n",
       "</table>\n",
       "</div>"
      ],
      "text/plain": [
       "            petal length (cm)  petal width (cm)  sepal length (cm)  \\\n",
       "group                                                                \n",
       "setosa                     50                50                 50   \n",
       "versicolor                 50                50                 50   \n",
       "virginica                  50                50                 50   \n",
       "\n",
       "            sepal width (cm)  \n",
       "group                         \n",
       "setosa                    50  \n",
       "versicolor                50  \n",
       "virginica                 50  "
      ]
     },
     "metadata": {},
     "output_type": "display_data"
    },
    {
     "name": "stdout",
     "output_type": "stream",
     "text": [
      "\n",
      "\n",
      "\u001b[1mМатрица корреляций\u001b[0m\n",
      "----------------------------------------------------------------------------------------------------\n"
     ]
    },
    {
     "data": {
      "text/html": [
       "<style  type=\"text/css\" >\n",
       "    #T_f8dc3624_9062_11ea_a346_c8bcc8a29c8frow0_col0 {\n",
       "            background-color:  #008000;\n",
       "            color:  #f1f1f1;\n",
       "        }    #T_f8dc3624_9062_11ea_a346_c8bcc8a29c8frow0_col1 {\n",
       "            background-color:  #e5ffe5;\n",
       "            color:  #000000;\n",
       "        }    #T_f8dc3624_9062_11ea_a346_c8bcc8a29c8frow0_col2 {\n",
       "            background-color:  #1a8e1a;\n",
       "            color:  #000000;\n",
       "        }    #T_f8dc3624_9062_11ea_a346_c8bcc8a29c8frow0_col3 {\n",
       "            background-color:  #259425;\n",
       "            color:  #000000;\n",
       "        }    #T_f8dc3624_9062_11ea_a346_c8bcc8a29c8frow1_col0 {\n",
       "            background-color:  #b4e4b4;\n",
       "            color:  #000000;\n",
       "        }    #T_f8dc3624_9062_11ea_a346_c8bcc8a29c8frow1_col1 {\n",
       "            background-color:  #008000;\n",
       "            color:  #f1f1f1;\n",
       "        }    #T_f8dc3624_9062_11ea_a346_c8bcc8a29c8frow1_col2 {\n",
       "            background-color:  #e5ffe5;\n",
       "            color:  #000000;\n",
       "        }    #T_f8dc3624_9062_11ea_a346_c8bcc8a29c8frow1_col3 {\n",
       "            background-color:  #dcfadc;\n",
       "            color:  #000000;\n",
       "        }    #T_f8dc3624_9062_11ea_a346_c8bcc8a29c8frow2_col0 {\n",
       "            background-color:  #148b14;\n",
       "            color:  #000000;\n",
       "        }    #T_f8dc3624_9062_11ea_a346_c8bcc8a29c8frow2_col1 {\n",
       "            background-color:  #e5ffe5;\n",
       "            color:  #000000;\n",
       "        }    #T_f8dc3624_9062_11ea_a346_c8bcc8a29c8frow2_col2 {\n",
       "            background-color:  #008000;\n",
       "            color:  #f1f1f1;\n",
       "        }    #T_f8dc3624_9062_11ea_a346_c8bcc8a29c8frow2_col3 {\n",
       "            background-color:  #058305;\n",
       "            color:  #f1f1f1;\n",
       "        }    #T_f8dc3624_9062_11ea_a346_c8bcc8a29c8frow3_col0 {\n",
       "            background-color:  #1f911f;\n",
       "            color:  #000000;\n",
       "        }    #T_f8dc3624_9062_11ea_a346_c8bcc8a29c8frow3_col1 {\n",
       "            background-color:  #e5ffe5;\n",
       "            color:  #000000;\n",
       "        }    #T_f8dc3624_9062_11ea_a346_c8bcc8a29c8frow3_col2 {\n",
       "            background-color:  #058305;\n",
       "            color:  #f1f1f1;\n",
       "        }    #T_f8dc3624_9062_11ea_a346_c8bcc8a29c8frow3_col3 {\n",
       "            background-color:  #008000;\n",
       "            color:  #f1f1f1;\n",
       "        }</style><table id=\"T_f8dc3624_9062_11ea_a346_c8bcc8a29c8f\" ><thead>    <tr>        <th class=\"blank level0\" ></th>        <th class=\"col_heading level0 col0\" >sepal length (cm)</th>        <th class=\"col_heading level0 col1\" >sepal width (cm)</th>        <th class=\"col_heading level0 col2\" >petal length (cm)</th>        <th class=\"col_heading level0 col3\" >petal width (cm)</th>    </tr></thead><tbody>\n",
       "                <tr>\n",
       "                        <th id=\"T_f8dc3624_9062_11ea_a346_c8bcc8a29c8flevel0_row0\" class=\"row_heading level0 row0\" >sepal length (cm)</th>\n",
       "                        <td id=\"T_f8dc3624_9062_11ea_a346_c8bcc8a29c8frow0_col0\" class=\"data row0 col0\" >1</td>\n",
       "                        <td id=\"T_f8dc3624_9062_11ea_a346_c8bcc8a29c8frow0_col1\" class=\"data row0 col1\" >-0.11757</td>\n",
       "                        <td id=\"T_f8dc3624_9062_11ea_a346_c8bcc8a29c8frow0_col2\" class=\"data row0 col2\" >0.871754</td>\n",
       "                        <td id=\"T_f8dc3624_9062_11ea_a346_c8bcc8a29c8frow0_col3\" class=\"data row0 col3\" >0.817941</td>\n",
       "            </tr>\n",
       "            <tr>\n",
       "                        <th id=\"T_f8dc3624_9062_11ea_a346_c8bcc8a29c8flevel0_row1\" class=\"row_heading level0 row1\" >sepal width (cm)</th>\n",
       "                        <td id=\"T_f8dc3624_9062_11ea_a346_c8bcc8a29c8frow1_col0\" class=\"data row1 col0\" >-0.11757</td>\n",
       "                        <td id=\"T_f8dc3624_9062_11ea_a346_c8bcc8a29c8frow1_col1\" class=\"data row1 col1\" >1</td>\n",
       "                        <td id=\"T_f8dc3624_9062_11ea_a346_c8bcc8a29c8frow1_col2\" class=\"data row1 col2\" >-0.42844</td>\n",
       "                        <td id=\"T_f8dc3624_9062_11ea_a346_c8bcc8a29c8frow1_col3\" class=\"data row1 col3\" >-0.366126</td>\n",
       "            </tr>\n",
       "            <tr>\n",
       "                        <th id=\"T_f8dc3624_9062_11ea_a346_c8bcc8a29c8flevel0_row2\" class=\"row_heading level0 row2\" >petal length (cm)</th>\n",
       "                        <td id=\"T_f8dc3624_9062_11ea_a346_c8bcc8a29c8frow2_col0\" class=\"data row2 col0\" >0.871754</td>\n",
       "                        <td id=\"T_f8dc3624_9062_11ea_a346_c8bcc8a29c8frow2_col1\" class=\"data row2 col1\" >-0.42844</td>\n",
       "                        <td id=\"T_f8dc3624_9062_11ea_a346_c8bcc8a29c8frow2_col2\" class=\"data row2 col2\" >1</td>\n",
       "                        <td id=\"T_f8dc3624_9062_11ea_a346_c8bcc8a29c8frow2_col3\" class=\"data row2 col3\" >0.962865</td>\n",
       "            </tr>\n",
       "            <tr>\n",
       "                        <th id=\"T_f8dc3624_9062_11ea_a346_c8bcc8a29c8flevel0_row3\" class=\"row_heading level0 row3\" >petal width (cm)</th>\n",
       "                        <td id=\"T_f8dc3624_9062_11ea_a346_c8bcc8a29c8frow3_col0\" class=\"data row3 col0\" >0.817941</td>\n",
       "                        <td id=\"T_f8dc3624_9062_11ea_a346_c8bcc8a29c8frow3_col1\" class=\"data row3 col1\" >-0.366126</td>\n",
       "                        <td id=\"T_f8dc3624_9062_11ea_a346_c8bcc8a29c8frow3_col2\" class=\"data row3 col2\" >0.962865</td>\n",
       "                        <td id=\"T_f8dc3624_9062_11ea_a346_c8bcc8a29c8frow3_col3\" class=\"data row3 col3\" >1</td>\n",
       "            </tr>\n",
       "    </tbody></table>"
      ],
      "text/plain": [
       "<IPython.core.display.HTML object>"
      ]
     },
     "metadata": {},
     "output_type": "display_data"
    },
    {
     "name": "stdout",
     "output_type": "stream",
     "text": [
      "\n",
      "\n",
      "\u001b[1mСписок корреляций больших 0.7\u001b[0m\n"
     ]
    },
    {
     "data": {
      "text/html": [
       "<style  type=\"text/css\" >\n",
       "    #T_f8e42622_9062_11ea_a346_c8bcc8a29c8frow0_col2 {\n",
       "            color:  red;\n",
       "        }    #T_f8e42622_9062_11ea_a346_c8bcc8a29c8frow1_col2 {\n",
       "            color:  orange;\n",
       "        }    #T_f8e42622_9062_11ea_a346_c8bcc8a29c8frow2_col2 {\n",
       "            color:  orange;\n",
       "        }</style><table id=\"T_f8e42622_9062_11ea_a346_c8bcc8a29c8f\" ><thead>    <tr>        <th class=\"blank level0\" ></th>        <th class=\"col_heading level0 col0\" >Признак 1</th>        <th class=\"col_heading level0 col1\" >Признак 2</th>        <th class=\"col_heading level0 col2\" >r</th>    </tr></thead><tbody>\n",
       "                <tr>\n",
       "                        <th id=\"T_f8e42622_9062_11ea_a346_c8bcc8a29c8flevel0_row0\" class=\"row_heading level0 row0\" >11</th>\n",
       "                        <td id=\"T_f8e42622_9062_11ea_a346_c8bcc8a29c8frow0_col0\" class=\"data row0 col0\" >petal length (cm)</td>\n",
       "                        <td id=\"T_f8e42622_9062_11ea_a346_c8bcc8a29c8frow0_col1\" class=\"data row0 col1\" >petal width (cm)</td>\n",
       "                        <td id=\"T_f8e42622_9062_11ea_a346_c8bcc8a29c8frow0_col2\" class=\"data row0 col2\" >0.962865</td>\n",
       "            </tr>\n",
       "            <tr>\n",
       "                        <th id=\"T_f8e42622_9062_11ea_a346_c8bcc8a29c8flevel0_row1\" class=\"row_heading level0 row1\" >2</th>\n",
       "                        <td id=\"T_f8e42622_9062_11ea_a346_c8bcc8a29c8frow1_col0\" class=\"data row1 col0\" >sepal length (cm)</td>\n",
       "                        <td id=\"T_f8e42622_9062_11ea_a346_c8bcc8a29c8frow1_col1\" class=\"data row1 col1\" >petal length (cm)</td>\n",
       "                        <td id=\"T_f8e42622_9062_11ea_a346_c8bcc8a29c8frow1_col2\" class=\"data row1 col2\" >0.871754</td>\n",
       "            </tr>\n",
       "            <tr>\n",
       "                        <th id=\"T_f8e42622_9062_11ea_a346_c8bcc8a29c8flevel0_row2\" class=\"row_heading level0 row2\" >3</th>\n",
       "                        <td id=\"T_f8e42622_9062_11ea_a346_c8bcc8a29c8frow2_col0\" class=\"data row2 col0\" >sepal length (cm)</td>\n",
       "                        <td id=\"T_f8e42622_9062_11ea_a346_c8bcc8a29c8frow2_col1\" class=\"data row2 col1\" >petal width (cm)</td>\n",
       "                        <td id=\"T_f8e42622_9062_11ea_a346_c8bcc8a29c8frow2_col2\" class=\"data row2 col2\" >0.817941</td>\n",
       "            </tr>\n",
       "    </tbody></table>"
      ],
      "text/plain": [
       "<IPython.core.display.HTML object>"
      ]
     },
     "metadata": {},
     "output_type": "display_data"
    }
   ],
   "source": [
    "view(iris, only_numeric=False)"
   ]
  },
  {
   "cell_type": "code",
   "execution_count": null,
   "metadata": {},
   "outputs": [],
   "source": []
  }
 ],
 "metadata": {
  "kernelspec": {
   "display_name": "Python 3",
   "language": "python",
   "name": "python3"
  },
  "language_info": {
   "codemirror_mode": {
    "name": "ipython",
    "version": 3
   },
   "file_extension": ".py",
   "mimetype": "text/x-python",
   "name": "python",
   "nbconvert_exporter": "python",
   "pygments_lexer": "ipython3",
   "version": "3.7.5"
  }
 },
 "nbformat": 4,
 "nbformat_minor": 4
}
